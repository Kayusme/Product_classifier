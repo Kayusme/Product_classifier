"""This file contains the ProductClassifier class, which is used to classify products based on certain features."""

# Import necessary libraries
import pandas as pd
import matplotlib.pyplot as plt
import seaborn as sns
from sklearn.preprocessing import LabelEncoder
from sklearn.ensemble import RandomForestClassifier
from sklearn.model_selection import train_test_split
from sklearn.metrics import accuracy_score

class ProductClassifier:
    """A class for classifying products based on certain features."""

    def __init__(self):
        """Initialize the ProductClassifier class."""
        self.le = LabelEncoder()
        self.model = RandomForestClassifier()
        """Load the data from a CSV file."""
        data = pd.read_csv('CATEGORIAS ODOO FILTRADO 13-11-23-RRR.csv')
        return data
    
    def preprocess_data(self, data):
        """Preprocess the data by handling missing values and converting categorical variables."""
        # Perform EDA
        print(data.head())
        print(data.info())
        print(data.describe())
        
        # Check for missing values
        print(data.isnull().sum())
        
        # Handle missing values
        data = data.dropna()
        
    def evaluate_model(self, X_test, y_test):
        """Evaluate the model's performance on the test set."""
        y_pred = self.model.predict(X_test)
        print('Accuracy:', accuracy_score(y_test, y_pred))
                
        return data
    def train_model(self, data):
        """Train the model using the provided data."""
        X = data.drop('target', axis=1)
# Check for missing values
print(data.isnull().sum())

# Handle missing values
data = data.dropna()

# Visualize the data
data.hist(figsize=(10,10))
plt.show()

plt.figure(figsize=(10,10))
sns.heatmap(data.corr(), annot=True, cmap='coolwarm')
plt.show()
# Create an instance of the ProductClassifier class
classifier = ProductClassifier()

# Load the data
data = classifier.load_data()

# Display the first few rows of the data
data.head()

# Load the data
data = classifier.load_data('CATEGORIAS ODOO FILTRADO 13-11-23-RRR.csv')
        # Visualize the data
        data.hist(figsize=(10,10))
        plt.show()
        
        plt.figure(figsize=(10,10))
        sns.heatmap(data.corr(), annot=True, cmap='coolwarm')
        plt.show()
        
        for column in data.select_dtypes(include=['object']).columns:
            plt.figure(figsize=(10,5))
            sns.countplot(data[column])
            plt.show()
# Evaluate the model
y_pred = classifier.model.predict(X_test)
print('Accuracy:', accuracy_score(y_test, y_pred))

# Train the model
X_test, y_test = classifier.train_model(data)
        y = data['target']
        X_train, X_test, y_train, y_test = train_test_split(X, y, test_size=0.2, random_state=42)
        
        # Train the model
        self.model.fit(X_train, y_train)
# Preprocess the data
data = classifier.preprocess_data(data)

# Split the data into training and testing sets
X = data.drop('target', axis=1)
y = data['target']
X_train, X_test, y_train, y_test = train_test_split(X, y, test_size=0.2, random_state=42)

# Train the model
classifier.train_model(X_train, y_train)
        
        return X_test, y_test
        # Evaluate the model
        y_pred = self.model.predict(X_test)
        print('Accuracy:', accuracy_score(y_test, y_pred))
# Evaluate the model
classifier.evaluate_model(X_test, y_test)
