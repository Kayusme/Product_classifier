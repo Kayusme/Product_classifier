# Import necessary libraries
import pandas as pd
import matplotlib.pyplot as plt
import seaborn as sns
from sklearn.preprocessing import LabelEncoder
from sklearn.ensemble import RandomForestClassifier
from sklearn.model_selection import train_test_split
from sklearn.metrics import accuracy_score

# Define the ProductClassifier class
class ProductClassifier:
    def __init__(self):
        self.le = LabelEncoder()
        self.model = RandomForestClassifier()
    
    # Define a method to load the data
    def load_data(self, file_path):
        return self.load_dataset(file_path)
    
    # Define a method to load the dataset
    def load_dataset(self, file_path):
        # Load the CSV file
        data = pd.read_csv(file_path)
        return data
    
    def preprocess_data(self, data):
        data = self.perform_eda(data)
        data = self.handle_missing_values(data)
        data = self.convert_categorical_variables(data)
        return data
    
    def perform_eda(self, data):
        print(data.head())
        print(data.info())
        print(data.describe())
        return data
        
    def handle_missing_values(self, data):
        print(data.isnull().sum())
        data = data.dropna()
        return data
    def convert_categorical_variables(self, data):
        for column in data.select_dtypes(include=['object']).columns:
            data[column] = self.le.fit_transform(data[column])
        return data
        # Check for missing values
        print(data.isnull().sum())
        
        # Handle missing values
        data = data.dropna()
        
    def evaluate_model(self, X_test, y_test):
        return self.evaluate_classifier(X_test, y_test)
    def train_model(self, data):
        # Split the data into training and testing sets
        X = data.drop('target', axis=1)
    def train_model(self, data):
        # Split the data into training and testing sets
        X = data.drop('target', axis=1)
# Check for missing values
print(data.isnull().sum())

# Handle missing values
data = data.dropna()

# Visualize the data
data.hist(figsize=(10,10))
plt.show()

plt.figure(figsize=(10,10))
    def evaluate_classifier(self, X_test, y_test):
        # Evaluate the model
        y_pred = self.model.predict(X_test)
        print('Accuracy:', accuracy_score(y_test, y_pred))
        return y_pred
sns.heatmap(data.corr(), annot=True, cmap='coolwarm')
plt.show()
# Create an instance of the ProductClassifier class
classifier = ProductClassifier()

# Load the data
data = classifier.load_data()

# Display the first few rows of the data
data.head()

# Load the data
data = classifier.load_data('CATEGORIAS ODOO FILTRADO 13-11-23-RRR.csv')
        # Visualize the data
        data.hist(figsize=(10,10))
        plt.show()
        
        plt.figure(figsize=(10,10))
        sns.heatmap(data.corr(), annot=True, cmap='coolwarm')
        plt.show()
        
        for column in data.select_dtypes(include=['object']).columns:
            plt.figure(figsize=(10,5))
            sns.countplot(data[column])
            plt.show()
# Evaluate the model
y_pred = classifier.model.predict(X_test)
print('Accuracy:', accuracy_score(y_test, y_pred))

# Train the model
X_train, X_test, y_train, y_test = classifier.split_data(data)
classifier.train_classifier(X_train, y_train)
        
        return X_test, y_test
        # Evaluate the model
        y_pred = self.model.predict(X_test)
        print('Accuracy:', accuracy_score(y_test, y_pred))
# Evaluate the model
classifier.evaluate_model(X_test, y_test)
    def split_data(self, data):
        y = data['target']
        X = data.drop('target', axis=1)
        X_train, X_test, y_train, y_test = train_test_split(X, y, test_size=0.2, random_state=42)
        return X_train, X_test, y_train, y_test

    def train_classifier(self, X_train, y_train):
        self.model.fit(X_train, y_train)
        return self.model
