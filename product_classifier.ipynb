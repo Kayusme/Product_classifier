import pandas as pd
from sklearn.preprocessing import LabelEncoder
from sklearn.ensemble import RandomForestClassifier
from sklearn.model_selection import train_test_split
from sklearn.metrics import accuracy_score

class ProductClassifier:
    def __init__(self):
        self.le = LabelEncoder()
        self.model = RandomForestClassifier()
    
    def load_data(self):
        # Load the CSV file
        data = pd.read_csv('CATEGORIAS ODOO FILTRADO 13-11-23-RRR.csv')
        return data
    
    def preprocess_data(self, data):
        # Perform EDA
        print(data.head())
        print(data.info())
        print(data.describe())
        
    def evaluate_model(self, X_test, y_test):
        # Evaluate the model
        y_pred = self.model.predict(X_test)
        print('Accuracy:', accuracy_score(y_test, y_pred))
        
        # Check for missing values
        print(data.isnull().sum())
        
        # Handle missing values
        data = data.dropna()
        
        # Convert categorical variables into numerical ones
        for column in data.columns:
            if data[column].dtype == type(object):
                data[column] = self.le.fit_transform(data[column])
                
        return data
    def train_model(self, data):
        # Split the data into training and testing sets
        X = data.drop('target', axis=1)
    def train_model(self, data):
        # Split the data into training and testing sets
        X = data.drop('target', axis=1)
# Create an instance of the ProductClassifier class
classifier = ProductClassifier()

# Load the data
data = classifier.load_data('CATEGORIAS ODOO FILTRADO 13-11-23-RRR.csv')

# Preprocess the data
data = classifier.preprocess_data(data)

# Train the model
X_test, y_test = classifier.train_model(data)
        y = data['target']
        X_train, X_test, y_train, y_test = train_test_split(X, y, test_size=0.2, random_state=42)
        
        # Train the model
        self.model.fit(X_train, y_train)
        
        return X_test, y_test
        # Evaluate the model
        y_pred = self.model.predict(X_test)
        print('Accuracy:', accuracy_score(y_test, y_pred))
# Evaluate the model
classifier.evaluate_model(X_test, y_test)
