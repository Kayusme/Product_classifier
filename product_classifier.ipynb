class ProductClassifier:
    def __init__(self):
        self.le = LabelEncoder()
        self.model = RandomForestClassifier()
    
    def load_data(self, file_path):
        # Load the CSV file
        data = pd.read_csv(file_path)
        return data
    
    def preprocess_data(self, data):
        # Perform EDA
        print(data.head())
        print(data.info())
        print(data.describe())
        
        # Check for missing values
        print(data.isnull().sum())
        
        # Handle missing values
        data = data.dropna()
        
        # Convert categorical variables into numerical ones
        for column in data.columns:
            if data[column].dtype == type(object):
                data[column] = self.le.fit_transform(data[column])
                
        return data
    def train_model(self, data):
        # Split the data into training and testing sets
        X = data.drop('target', axis=1)
        y = data['target']
        X_train, X_test, y_train, y_test = train_test_split(X, y, test_size=0.2, random_state=42)
        
        # Train the model
        self.model.fit(X_train, y_train)
        
        return X_test, y_test
        # Evaluate the model
        y_pred = self.model.predict(X_test)
        print('Accuracy:', accuracy_score(y_test, y_pred))
